{
 "cells": [
  {
   "cell_type": "code",
   "execution_count": 1,
   "metadata": {},
   "outputs": [
    {
     "name": "stdout",
     "output_type": "stream",
     "text": [
      "Processing file: TestAudio\\dat-test.wav\n",
      "Resampling completed.\n"
     ]
    }
   ],
   "source": [
    "import os\n",
    "import librosa\n",
    "import soundfile as sf\n",
    "\n",
    "def resample_wav_files_in_folder(folder_path, target_sr=16000):\n",
    "    # Loop through all files in the folder\n",
    "    for file_name in os.listdir(folder_path):\n",
    "        # Check if the file is a WAV file\n",
    "        if file_name.endswith('.wav'):\n",
    "            file_path = os.path.join(folder_path, file_name)\n",
    "            print(f\"Processing file: {file_path}\")\n",
    "\n",
    "            # Load audio and resample\n",
    "            audio, sr = librosa.load(file_path, sr=target_sr)\n",
    "\n",
    "            # Save resampled audio back to file\n",
    "            sf.write(file_path, audio, samplerate=target_sr)\n",
    "\n",
    "            print(\"Resampling completed.\")\n",
    "\n",
    "# Folder containing the WAV files\n",
    "folder_path = \"TestAudio\"\n",
    "\n",
    "# Resample WAV files in the folder to 16kHz\n",
    "resample_wav_files_in_folder(folder_path)\n"
   ]
  }
 ],
 "metadata": {
  "kernelspec": {
   "display_name": "base",
   "language": "python",
   "name": "python3"
  },
  "language_info": {
   "codemirror_mode": {
    "name": "ipython",
    "version": 3
   },
   "file_extension": ".py",
   "mimetype": "text/x-python",
   "name": "python",
   "nbconvert_exporter": "python",
   "pygments_lexer": "ipython3",
   "version": "3.11.7"
  }
 },
 "nbformat": 4,
 "nbformat_minor": 2
}

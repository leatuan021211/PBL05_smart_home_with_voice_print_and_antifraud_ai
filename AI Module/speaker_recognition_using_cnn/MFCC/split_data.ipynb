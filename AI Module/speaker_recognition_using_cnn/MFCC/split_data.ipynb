{
 "cells": [
  {
   "cell_type": "code",
   "execution_count": 2,
   "metadata": {},
   "outputs": [],
   "source": [
    "import os\n",
    "import wave\n",
    "\n",
    "def split_wav(file_path, output_folder):\n",
    "    with wave.open(file_path, 'rb') as wf:\n",
    "        framerate = wf.getframerate()\n",
    "        frames_per_3_seconds = framerate * 3  # Số frames trong 3 giây\n",
    "\n",
    "        file_name = os.path.splitext(os.path.basename(file_path))[0]\n",
    "        file_counter = 0\n",
    "        \n",
    "        # Tạo folder đầu ra nếu nó chưa tồn tại\n",
    "        if not os.path.exists(output_folder):\n",
    "            os.makedirs(output_folder)\n",
    "\n",
    "        total_frames = wf.getnframes()\n",
    "        remaining_frames = total_frames\n",
    "\n",
    "        while remaining_frames > 0:\n",
    "            output_file_path = os.path.join(output_folder, f\"{file_name}_{file_counter}.wav\")\n",
    "            with wave.open(output_file_path, 'wb') as wf_out:\n",
    "                wf_out.setnchannels(wf.getnchannels())\n",
    "                wf_out.setsampwidth(wf.getsampwidth())\n",
    "                wf_out.setframerate(framerate)\n",
    "                \n",
    "                # Đọc và viết frames cho mỗi file 3 giây\n",
    "                frames_to_read = min(frames_per_3_seconds, remaining_frames)\n",
    "                data = wf.readframes(frames_to_read)\n",
    "                if not data:\n",
    "                    break  # Không còn frames để đọc\n",
    "                wf_out.writeframes(data)\n",
    "                file_counter += 1\n",
    "                remaining_frames -= frames_to_read\n",
    "\n",
    "def process_folder(input_folder, output_folder):\n",
    "    for root, _, files in os.walk(input_folder):\n",
    "        for file in files:\n",
    "            if file.endswith('.wav'):\n",
    "                file_path = os.path.join(root, file)\n",
    "                split_wav(file_path, output_folder)\n",
    "\n",
    "if __name__ == \"__main__\":\n",
    "    input_folder = \"TestAudio\"  # Folder chứa file gốc\n",
    "    output_folder = \"TestAudio\"  # Folder chứa các file đã tách\n",
    "    process_folder(input_folder, output_folder)\n"
   ]
  }
 ],
 "metadata": {
  "kernelspec": {
   "display_name": "base",
   "language": "python",
   "name": "python3"
  },
  "language_info": {
   "codemirror_mode": {
    "name": "ipython",
    "version": 3
   },
   "file_extension": ".py",
   "mimetype": "text/x-python",
   "name": "python",
   "nbconvert_exporter": "python",
   "pygments_lexer": "ipython3",
   "version": "3.11.7"
  }
 },
 "nbformat": 4,
 "nbformat_minor": 2
}
